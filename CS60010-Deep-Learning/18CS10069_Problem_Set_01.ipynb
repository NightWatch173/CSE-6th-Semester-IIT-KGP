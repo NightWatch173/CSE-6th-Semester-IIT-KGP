{
  "nbformat": 4,
  "nbformat_minor": 0,
  "metadata": {
    "anaconda-cloud": {},
    "colab": {
      "name": "18CS10069_Problem_Set_01.ipynb",
      "provenance": [],
      "collapsed_sections": []
    },
    "kernelspec": {
      "display_name": "Python 3",
      "language": "python",
      "name": "python3"
    },
    "language_info": {
      "codemirror_mode": {
        "name": "ipython",
        "version": 3
      },
      "file_extension": ".py",
      "mimetype": "text/x-python",
      "name": "python",
      "nbconvert_exporter": "python",
      "pygments_lexer": "ipython3",
      "version": "3.8.5"
    }
  },
  "cells": [
    {
      "cell_type": "markdown",
      "metadata": {
        "id": "nvnm3YqXF1et"
      },
      "source": [
        "\n",
        "# Problem Set 1 \n"
      ]
    },
    {
      "cell_type": "markdown",
      "metadata": {
        "id": "pK-9wPs4F1e1"
      },
      "source": [
        "**Name : `Siba Smarak Panigrahi`** "
      ]
    },
    {
      "cell_type": "markdown",
      "metadata": {
        "id": "VWcIfKAnF1e3"
      },
      "source": [
        "**Roll-No : `18CS10069`** "
      ]
    },
    {
      "cell_type": "markdown",
      "metadata": {
        "id": "P8ITxsdeF1e4"
      },
      "source": [
        "**Dept : `Computer Science and Engineering`** "
      ]
    },
    {
      "cell_type": "markdown",
      "metadata": {
        "id": "C-IFdWvrF1e5"
      },
      "source": [
        "**Mail-ID : `sibasmarak.p@gmail.com`** "
      ]
    },
    {
      "cell_type": "markdown",
      "metadata": {
        "id": "idj_n4-4F1e5"
      },
      "source": [
        "## Preamble\n",
        "\n",
        "To run and solve this assignment, one must have a working IPython Notebook installation. The easiest way to set it up for both Windows and Linux is to install [Anaconda](https://docs.anaconda.com/anaconda/install/). Then save this file to your computer, run Anaconda and choose this file in Anaconda's file explorer. Use `Python 3` version. Below statements assume that you have already followed these instructions. If you are new to Python or its scientific library, Numpy, there are some nice tutorials [here](https://www.learnpython.org/) and [here](http://www.scipy-lectures.org/).\n",
        "\n",
        "To run code in a cell or to render [Markdown](https://en.wikipedia.org/wiki/Markdown)+[LaTeX](https://en.wikipedia.org/wiki/LaTeX) press `Ctr+Enter` or `[>|]`(like \"play\") button above. To edit any code or text cell [double]click on its content. To change cell type, choose \"Markdown\" or \"Code\" in the drop-down menu above.\n",
        "\n",
        "We highly encourage students to put down their answers to theoretical questions into corresponding cells below. However, if one does not know LaTeX (and would find it too hard to learn it), he/she can write it in pen-and-paper format and submit the scanned pdf. Note that the solutions to the programming problems should be submitted in the ipynb file itself.\n",
        "\n",
        "Put your solution into boxes marked with **`[double click here to add a solution]`** and press Ctr+Enter to render text. [Double]click on a cell to edit or to see its source code. You can add cells via **`+`** sign at the top left corner.\n",
        "\n",
        "Submission instructions: Please upload your completed solution file to [CSE Moodle](https://kgpmoodle.iitkgp.ac.in/moodle/login/index.php) by the due date.\n",
        "\n",
        "\n",
        "`Vector` stands for `column vector` below."
      ]
    },
    {
      "cell_type": "markdown",
      "metadata": {
        "id": "tVfDG7dfF1e6"
      },
      "source": [
        "### Problem 1: Closed-Form Maximum Likelihood\n",
        "\n",
        "**Q1.1**: The **functional Invariance** Property of Maximum Likelihood Estimate (MLE) states that, \"If $\\hat{\\theta}$ is a Maximum Likelihood Estimate (MLE) of $\\theta$ and if $g$ is a function, then $g(\\hat{\\theta})$ is an MLE of $g(\\theta)$\".\n",
        "\n",
        "Assume that we are given $n$ iid samples $(x_1, ..., x_n)$ from $P(x \\ | \\ \\theta)$ below:\n",
        "\n",
        "$P(x \\ | \\ \\theta) = \\theta^x (1 - \\theta)^{1 - x}$ for $x \\in \\{0, 1\\}$\n",
        "\n",
        "The MLE for the parameter $\\theta$ of given distribution is $\\frac{\\sum_{i=1}^n x_i}{n}$ (already worked out in class). Now, let us consider $v = g(\\theta) = (1 - \\theta)$. Compute the MLE for the parameter $v$ of the distribution **without directly using the functional invariance property stated above**:\n",
        "\n",
        "$P(x \\ | \\ v) = \\theta^x (1 - \\theta)^{1 - x}$ for $x \\in \\{0, 1\\}$\n",
        "\n",
        "**Q1.2**: Assume that we are given $2n$ iid samples $(x_1, ..., x_{2n})$ from $P(x \\ | \\ \\theta)$ below. Compute the MLE for the parameter $\\theta$ of given distribution.\n",
        "\n",
        "$P(x \\ | \\ \\theta) = \\frac{1}{2} e^{-|x-\\theta|}$\n",
        "\n",
        "_Hint: You may find [sign](https://en.wikipedia.org/wiki/Sign_function) function useful._"
      ]
    },
    {
      "cell_type": "markdown",
      "metadata": {
        "id": "CJrAwp1CF1e8"
      },
      "source": [
        "**Ans.1.1** \n",
        "\n",
        "$P(x \\ | \\ v) = \\theta^x (1 - \\theta)^{(1-x)}$ for $x \\in \\{0,1\\}$\n",
        "\n",
        "Since $v = (1 - \\theta),$ we have\n",
        "$P(x \\ | \\ v) = (1 - v)^x v^{(1-x)}$ for $x \\in \\{0,1\\}$\n",
        "\n",
        "To determine the parameter $\\theta$ for MLE, we have to consider the joint probability density. The probability density would be given by:\n",
        "\n",
        "$\\begin{equation*}\n",
        "p(x_{1}, x_{2}, \\cdots, x_{n} \\ | \\ v) = \\prod_{i = 1}^{n}P(x_{i} \\ | \\ v) = v^{(n-\\sum_{i=1}^{n}x_{i})}(1-v)^{\\sum_{i=1}^{n}x_{i}}\n",
        "\\end{equation*}$\n",
        "\n",
        "Now, log-likelihood, $L(v) = \\log\\big[ v^{(n-\\sum_{i=1}^{n}x_{i})}(1-v)^{\\sum_{i=1}^{n}x_{i}} \\big] = (n-\\sum_{i=1}^{n}x_{i}).\\log(v) + \\sum_{i=1}^{n}x_{i}.\\log(1-v)$\n",
        "\n",
        "To maximize the log-likelihood, $\\frac{\\partial L}{\\partial v} = 0$\n",
        "\n",
        "$\\implies \\frac{(n-\\sum_{i=1}^{n}x_{i})}{v} + \\frac{\\sum_{i=1}^{n}x_{i}}{(1-v)} = 0$\n",
        "$\\implies v = 1 - \\frac{\\sum_{i=1}^{n}x}{n}$.\n",
        "\n",
        "\n",
        "**Ans.1.2**\n",
        "\n",
        "The joint distribution for the given probability distribution is\n",
        "$\\begin{equation}\n",
        "p(x_{1}, x_{2}, \\cdots, x_{2n} \\ | \\ \\theta) = \\prod_{i = 1}^{2n}P(x_{i} \\ | \\ \\theta) = \\frac{1}{2^{n}}e^{\\sum_{i=1}^{2n}|x_{i} - \\theta|} = L (say)\n",
        "\\end{equation}$\n",
        "\n",
        "The value of paramter $\\theta$ for MLE could be obtained by taking the log followed by derivative of the above equation and equating it to $0$.\n",
        "\n",
        "Therefore, $\\frac{\\partial \\log L}{\\partial \\theta} = 0 \\implies \\frac{\\partial \\big ( \\sum_{i=1}^{2n}|x_{i} - \\theta| \\big )}{\\partial \\theta} = 0$\n",
        "\n",
        "- The above derivative is the sum of the $sgn()$ function applied on $x_{i} - \\theta$.\n",
        "\n",
        "- To make the derivative zero, there must be equal number of $1$ and $-1$.\n",
        "\n",
        "- Since there are even number of samples, therefore, $\\theta$ must be the in the range $(x_{n}, x_{n+1})$ [after sorting all $x_i$] after all the $2n$ samples are sorted.\n",
        "\n",
        "One such $\\theta$ could be the ***median*** of the samples.\n"
      ]
    },
    {
      "cell_type": "markdown",
      "metadata": {
        "id": "yUEJONgLaea2"
      },
      "source": [
        "### Problem 2: Gradient for Maximum Likelihood Estimation\n",
        "\n",
        "Sometimes, we can't find MLEs in closed-form, in this case, we can use an iterative scheme to solve resulting optimization problem $\\theta_{MLE} = \\arg\\max P(x \\ | \\ \\theta)$. First-order iterative schemes (e.g. Gradient Descent, Stochastic Gradient Descent, Nesterov Accelerated Gradient Descent) require gradient information at each visited point. Compute gradients for log-likelihood of the following model:\n",
        "\n",
        "- we have $X \\in \\mathbf R^{n \\times d}$ - constant data matrix, $\\mathbf x_i$ - vector corresponding to a single data point $(\\mathbf x_i \\in \\mathbf R^{d})$\n",
        "- $\\theta$ is a $d$-dimensional (unknown) weight vector\n",
        "- $\\varepsilon \\sim \\text{Fisher's Z-distribution}(d_1, d_2)$ is a $n$-dimensional (unknown) noise vector\n",
        "- and we observe vector $\\mathbf y = X\\theta + \\varepsilon$\n",
        "\n",
        "Which means that\n",
        "$$ P(y_i \\ | \\ \\mathbf x_i, \\theta, d_1, d_2) = Z(d_1, d_2) \\frac{e^{d_1(y_i - \\theta^T \\mathbf{x_i})}}{(d_1e^{2(y_i - \\theta^T \\mathbf{x_i})} + d_2)^\\frac{d_1+d_2}{2}} $$\n",
        "\n",
        "where $Z$ stands for a constant that does not depend on $\\theta$, and $d_1$ and $d_2$ are constant parameters.\n",
        "\n",
        "Denote log-likelihood as $\\mathcal L(\\theta)$ and log-likelihood for a single sample $i$ as $\\mathcal L_i(\\theta) = \\mathcal L(\\theta \\ | \\ \\mathbf x_i, y_i)$.\n",
        "\n",
        "**Q2.1**: Find $\\frac{\\partial \\mathcal L_i(\\theta)}{\\partial \\theta}$."
      ]
    },
    {
      "cell_type": "markdown",
      "metadata": {
        "id": "OYDG9kkEF1e8"
      },
      "source": [
        "**Ans 2.1**\n",
        "\n",
        "From the definition of log-likelihood, we have\n",
        "$$\\mathcal L_{i}(\\theta) = \\log (P(y_i \\ | \\ \\mathbf x_i, \\theta, d_1, d_2)) = \\log \\Bigg ( Z(d_1, d_2) \\frac{e^{d_1(y_i - \\theta^T \\mathbf{x_i})}}{(d_1e^{2(y_i - \\theta^T \\mathbf{x_i})} + d_2)^\\frac{d_1+d_2}{2}} \\Bigg ) $$\n",
        "\n",
        "$$\\implies \\mathcal L_{i}(\\theta) = \\log (Z(d_{1},d_{2})) + d_{1}(y_{i}-\\theta^T \\mathbf{x_{i}}) - \\frac{d_{1} + d_{2}}{2}.\\log{(d_1e^{2(y_i - \\theta^T \\mathbf{x_i})} + d_2) }$$\n",
        "\n",
        "$$\\implies \\frac{\\partial \\mathcal L_i(\\theta)}{\\partial \\theta} = -d_{1}.\\mathbf{x_{i}} + \\frac{d_{1} + d_{2}}{(d_1e^{2(y_i - \\theta^T \\mathbf{x_i})} + d_2)}.(d_1e^{2(y_i - \\theta^T \\mathbf{x_i})}).(\\mathbf{x_{i}})$$\n",
        "\n",
        "$$ \\implies \\frac{\\partial \\mathcal L_i(\\theta)}{\\partial \\theta} = -d_{1}d_{2}\\Bigg [ \\frac{1 - e^{2(y_{i}-\\theta^T \\mathbf{x_{i}})}}{(d_1e^{2(y_i - \\theta^T \\mathbf{x_i})} + d_2)}\\Bigg ] \\mathbf{x_{i}}$$"
      ]
    },
    {
      "cell_type": "markdown",
      "metadata": {
        "id": "2fkb1S07F1e-"
      },
      "source": [
        "**Q2.2**: Check the result obtained in the previous section by coding an SGD for $\\mathcal L(\\theta)$ and plotting how function value changes as a function of a number of passed gradient steps. Try multiple learning rates (7e-2, 1e-3, 1e-6), explain the result. Consider $Z(d_1,d_2)=8$, $d_1=2$ and $d_2=2$ for plotting.\n",
        "\n",
        "We marked places where you are expected to add/change your own code with **`## -- ! code required`** comment."
      ]
    },
    {
      "cell_type": "code",
      "metadata": {
        "colab": {
          "base_uri": "https://localhost:8080/",
          "height": 761
        },
        "id": "cEYYZ095F1e_",
        "jupyter": {
          "outputs_hidden": false
        },
        "outputId": "ed1f4fd3-aed4-445e-e18d-310434307e50"
      },
      "source": [
        "import numpy as np\n",
        "import matplotlib.pyplot as plt\n",
        "\n",
        "def generate_data(n=100, d=10, d1=2, d2=2):\n",
        "    X = np.random.rand(n, d)*2-1\n",
        "    theta = np.random.rand(d, 1)\n",
        "    noise = np.random.f(d1, d2, n).reshape((-1, 1))  # F-distribution\n",
        "    noise = np.log(noise) / 2  # Fisher's Z-distribution\n",
        "    return X, X @ theta + noise\n",
        "\n",
        "def loss(X, y, theta):\n",
        "    theta_temp = theta.reshape((-1,))\n",
        "    first_term = np.log(8)\n",
        "    second_term = 2 * (y - X @ theta_temp)\n",
        "    third_term = 2 * np.log(2 * np.exp(y - X @ theta_temp) + 2)\n",
        "    loss_value = first_term +  second_term - third_term \n",
        "    return -1 * np.average(loss_value)\n",
        "\n",
        "def loss_grad_i(X, y, theta, i):\n",
        "    ## ! -- code required\n",
        "    theta_temp = theta.reshape((-1,))\n",
        "    inner_value =  (1 - np.exp(2 * (y[i] - np.dot(X[i].T, theta_temp)))) / (np.exp(2 * (y[i] - np.dot(X[i].T, theta_temp))) + 1) \n",
        "    loss_grad = 2 * inner_value[0] * X[i]\n",
        "    loss_grad = loss_grad.reshape((-1,1))\n",
        "    return loss_grad\n",
        "\n",
        "def sgd_plot(theta_init, X, y, n_steps=100):\n",
        "    for learning_rate in [7e-2, 1e-3, 1e-6]:\n",
        "        theta = theta_init.copy()\n",
        "        losses = []\n",
        "        for step_n in range(n_steps):\n",
        "            for i in range(X.shape[0]):\n",
        "                theta = theta - learning_rate * loss_grad_i(X, y, theta, i)\n",
        "                loss_i = loss(X, y, theta) ## ! -- code required\n",
        "                losses.append(loss_i)\n",
        "        plt.plot(losses)\n",
        "        plt.show()\n",
        "    \n",
        "def main(n=100, d=10, d1=2, d2=2):\n",
        "    X, y = generate_data(n, d, d1, d2)\n",
        "    theta_init = np.random.rand(d, 1)\n",
        "    sgd_plot(theta_init, X, y)\n",
        "    \n",
        "main()"
      ],
      "execution_count": 3,
      "outputs": [
        {
          "output_type": "display_data",
          "data": {
            "image/png": "[encoded data removed]",
            "text/plain": [
              "<Figure size 432x288 with 1 Axes>"
            ]
          },
          "metadata": {
            "tags": [],
            "needs_background": "light"
          }
        },
        {
          "output_type": "display_data",
          "data": {
            "image/png": "[encoded data removed]",
            "text/plain": [
              "<Figure size 432x288 with 1 Axes>"
            ]
          },
          "metadata": {
            "tags": [],
            "needs_background": "light"
          }
        },
        {
          "output_type": "display_data",
          "data": {
            "image/png": "[encoded data removed]",
            "text/plain": [
              "<Figure size 432x288 with 1 Axes>"
            ]
          },
          "metadata": {
            "tags": [],
            "needs_background": "light"
          }
        }
      ]
    },
    {
      "cell_type": "markdown",
      "metadata": {
        "id": "_8MR2VeaF1fC"
      },
      "source": [
        "- For a very large learning rate (i.e. $7e^{-2}$), the loss decreases rapidly, but then overshoots the minima, and oscillates at a value higer than minima. \n",
        "- For a better and lower learning rate (i.e. $1e^{-3}$), the loss function decreases smoothly and ultimately reaches the minima. The shape of the loss function is also smooth, because the Gradient Descent behaves well in this range of learning rate for this loss function.\n",
        "- For a much lower learning rate (i.e. $1e^{-6}$), the gradient descent takes smaller steps, hence it leads to a much slower update in the parameter $\\theta$, and hence a much slower decrease in the loss function. Thus, over a large iterations also, the decrease is very less, and hence the loss function appears like a straight line."
      ]
    },
    {
      "cell_type": "markdown",
      "metadata": {
        "id": "Rd3P13flF1fD"
      },
      "source": [
        "### Problem 3: Logistic Regression\n",
        "\n",
        "Assume that we observe data generated via the following model:\n",
        "\n",
        "- $X \\in \\mathbf R^{n \\times d}$ - constant data matrix\n",
        "- $\\theta_j \\sim \\mathcal N(0, \\sigma_\\theta)$; $\\theta$ is $d$-dimensional random vector (`This is a prior information that` $\\theta$ `follows normal distribution`)\n",
        "- $\\varepsilon_i \\sim \\text{Logistic}(0, \\sigma_\\epsilon)$; $\\varepsilon$ is $n$-dimensional random noise vector distributed according to [Logistic](https://en.wikipedia.org/wiki/Logistic_distribution) distribution\n",
        "- and we observe $\\mathbf y = \\mathbf 1[X \\theta + \\varepsilon \\geq 0]$ - boolean random vector\n",
        "\n",
        "or, in other words: there exists some data $X$, we sample weights vector $\\theta$ of the corresponding shape from multivariate normal distribution, multiply features from $X$ by weights from $\\theta$, add random logistically distributed noise to resulting numbers, and observe whether resulting (noisy) random variable exceeds zero. So we are given the data matrix X and y, we want to estimate the weight vector $\\theta$ as accurately as possible. \n",
        "\n",
        "**`Show that given model definition above, the following holds:`**\n",
        "\n",
        "**Q3.1**: $ P(y_i = 1 \\ | \\ \\theta, \\mathbf x_i) = \\text{logistic}\\Big(\\frac{\\theta^T \\mathbf x_i}{\\sigma_\\epsilon}\\Big)$\n",
        "\n",
        " where $ \\text{logistic}(x) := \\frac{1}{1+\\exp(-x)}$ is a standard [logistic function](https://en.wikipedia.org/wiki/Logistic_function#Mathematical_properties), $\\mathbf x_i$ denotes $i$-th data sample vector, $\\mathbf 1[\\dots]$ denotes indicator function. Do not get confused between standard [logistic function](https://en.wikipedia.org/wiki/Logistic_function#Mathematical_properties) and [Logistic](https://en.wikipedia.org/wiki/Logistic_distribution) distribution.\n",
        " \n",
        " **Hints:** \n",
        " \n",
        " - for a random variable $\\zeta \\sim P$ what is $P(\\zeta \\leq a)$ ? (answer: $F_{\\zeta}(a)$ - value of cumulative density function for the distribution of $\\zeta$)"
      ]
    },
    {
      "cell_type": "markdown",
      "metadata": {
        "id": "ORzZUli-F1fD"
      },
      "source": [
        "**Ans 3.1**\n",
        "\n",
        "The value of $y_{i}$ can be $1$, only when $\\theta^T \\mathbf{x_{i}} + \\varepsilon \\geq 0 \\implies \\varepsilon \\geq -\\theta^T \\mathbf{x_{i}}$.\n",
        "\n",
        "Therefore,\n",
        "$$P(y_i = 1 \\ | \\ \\theta, \\mathbf x_i) = P(\\varepsilon \\geq -\\theta^T \\mathbf{x_{i}}) = P(\\varepsilon \\leq \\theta^T \\mathbf{x_{i}})$$\n",
        "\n",
        "Since, $\\varepsilon$ follows a logistic distribution, \n",
        "$$F(x, \\mu, \\sigma_{\\epsilon}) = \\frac{1}{1 + e^\\frac{-(x - \\mu)}{\\sigma_{\\epsilon}}}$$\n",
        "\n",
        "Here, $x = \\theta^T \\mathbf{x_{i}}, \\sigma_{\\epsilon} = \\sigma_{\\epsilon}$. Thus we get,\n",
        "$$\\implies P(y_i = 1 \\ | \\ \\theta, \\mathbf x_i) = \\frac{1}{1 + e^\\frac{-\\theta^T \\mathbf{x_{i}}}{\\sigma_{\\epsilon}}} = \\text{logistic}\\Big(\\frac{\\theta^T \\mathbf x_i}{\\sigma_\\epsilon}\\Big)$$"
      ]
    },
    {
      "cell_type": "markdown",
      "metadata": {
        "id": "boFssCLNF1fD"
      },
      "source": [
        "Let us consider $\\sigma_{\\epsilon} = 1$ everywhere further.\n",
        "\n",
        "**Q3.2**: $ P(y_i \\ | \\ \\theta, \\mathbf x_i) = (\\text{logistic}(\\theta^T \\mathbf x_i))^{y_i} (1-\\text{logistic}(\\theta^T \\mathbf x_i))^{(1-y_i)}$"
      ]
    },
    {
      "cell_type": "markdown",
      "metadata": {
        "id": "w33uDsx8F1fD"
      },
      "source": [
        "**Ans 3.2**\n",
        "\n",
        "From **Q 3.1** we have $P(y_i = 1 \\ | \\ \\theta, \\mathbf x_i) = \\text{logistic}\\Big(\\frac{\\theta^T \\mathbf x_i}{\\sigma_\\epsilon}\\Big)$\n",
        "\n",
        "Similarly, $P(y_i = 0 \\ | \\ \\theta, \\mathbf x_i) = 1 - P(y_i = 1 \\ | \\ \\theta, \\mathbf x_i) = 1 - \\text{logistic}\\Big(\\frac{\\theta^T \\mathbf x_i}{\\sigma_\\epsilon}\\Big)$.\n",
        "\n",
        "We have, $\\sigma_\\epsilon = 1$. And, $y_{i}$ is a Bernoulli random variable with two possible outcomes $0$ and $1$. From above two equations, we have the probability of each outcome.\n",
        "Therefore, \n",
        "\n",
        "$$ P(y_i \\ | \\ \\theta, \\mathbf x_i) = (\\text{logistic}(\\theta^T \\mathbf x_i))^{y_i} (1-\\text{logistic}(\\theta^T \\mathbf x_i))^{(1-y_i)}$$"
      ]
    },
    {
      "cell_type": "markdown",
      "metadata": {
        "id": "Ul5410VkF1fD"
      },
      "source": [
        "**Q3.3**: $ \\log P(y_i \\ | \\ \\theta, \\mathbf x_i) = y_i \\theta^T \\mathbf x_i - \\log(1 + \\exp(\\theta^T \\mathbf x_i))$\n",
        "\n"
      ]
    },
    {
      "cell_type": "markdown",
      "metadata": {
        "id": "yCWko5RfF1fD"
      },
      "source": [
        "**Ans 3.3**\n",
        "From **Q 3.2**, we have,\n",
        "$ P(y_i \\ | \\ \\theta, \\mathbf x_i) = (\\text{logistic}(\\theta^T \\mathbf x_i))^{y_i} (1-\\text{logistic}(\\theta^T \\mathbf x_i))^{(1-y_i)}$\n",
        "\n",
        "$$\\implies \\log P(y_i \\ | \\ \\theta, \\mathbf x_i) = - y_i.\\log ( 1 + e^{-\\theta^T \\mathbf{x_i}}) + (1 - y_i).\\big [- \\theta^T \\mathbf{x_i} - \\log(1 + e^{-\\theta^T \\mathbf{x_i}}) \\big ]$$\n",
        "\n",
        "$$\\implies \\log P(y_i \\ | \\ \\theta, \\mathbf x_i) = y_i \\theta^T \\mathbf{x_i} - \\theta^T \\mathbf{x_i} - \\log(1 + e^{-\\theta^T \\mathbf{x_i}})$$\n",
        "\n",
        "Now, $-\\theta^T \\mathbf{x_i} = \\log e^{- \\theta^T \\mathbf{x_i}}$. This leads to further simplification:\n",
        "\n",
        "$$\\implies \\log P(y_i \\ | \\ \\theta, \\mathbf x_i) = y_i \\theta^T \\mathbf{x_i}  + \\log \\Bigg ( \\frac{e^{- \\theta^T \\mathbf{x_i}}}{1 + e^{-\\theta^T \\mathbf{x_i}}} \\Bigg )$$\n",
        "\n",
        "$$\\implies \\log P(y_i \\ | \\ \\theta, \\mathbf x_i) = y_i \\theta^T \\mathbf{x_i}  + \\log \\Bigg ( \\frac{1}{1 + e^{\\theta^T \\mathbf{x_i}}} \\Bigg )$$\n",
        "\n",
        "$$\\implies \\log P(y_i \\ | \\ \\theta, \\mathbf x_i) = y_i \\theta^T \\mathbf{x_i}  - \\log ( 1 + \\exp(\\theta^T \\mathbf{x_i}))$$"
      ]
    },
    {
      "cell_type": "markdown",
      "metadata": {
        "id": "8HpmL4NmF1fE"
      },
      "source": [
        "The vector $\\mathbf 1_{n \\times 1}$ denotes column of ones.\n",
        "\n",
        "**Q3.4**: $ \\mathcal L_{MLE}(\\theta) = \\log P(\\mathbf y \\ | \\ X, \\theta) = y^T X \\theta - \\mathbf 1_{n \\times 1}^T \\cdot \\log(\\mathbf 1_{n \\times 1} + \\exp(X \\theta)) $"
      ]
    },
    {
      "cell_type": "markdown",
      "metadata": {
        "id": "3FEQ5VHiF1fF"
      },
      "source": [
        "**Ans 3.4** From **Q3.3**, $ \\log P(y_i \\ | \\ \\theta, \\mathbf x_i) = y_i \\theta^T \\mathbf x_i - \\log(1 + \\exp(\\theta^T \\mathbf x_i))$.\n",
        "\n",
        "$\\mathcal L_{MLE}(\\theta) = \\log P(\\mathbf y \\ | \\ X, \\theta) = $\n",
        "$\n",
        "\\sum_{i=1}^{n} [ y_i \\theta^T \\mathbf x_i - \\log(1 + \\exp(\\theta^T \\mathbf x_i))]\n",
        "= (y_1 \\theta^T \\mathbf x_1 + y_2 \\theta^T \\mathbf x_2 + \\cdots + y_n \\theta^T \\mathbf x_n) - \\begin{pmatrix}\n",
        "  1 & 1 & \\cdots & 1\n",
        "\\end{pmatrix}^T\n",
        "\\log \\begin{pmatrix}\n",
        "  1 + \\exp(\\theta^T \\mathbf x_1)  \\\\\n",
        "  1 + \\exp(\\theta^T \\mathbf x_2) \\\\\n",
        "  \\vdots   \\\\\n",
        "  1 + \\exp(\\theta^T \\mathbf x_n)\n",
        "\\end{pmatrix}\n",
        "$\n",
        "\n",
        "We know, $\\theta^T \\mathbf x_i = \\mathbf x_i ^ T \\theta$.\n",
        "Thus,\n",
        "$$\n",
        "\\implies \\mathcal L_{MLE}(\\theta) = \n",
        "\\begin{pmatrix}\n",
        "  y_1 & y_2 & \\cdots & y_n\n",
        "\\end{pmatrix}^T\n",
        "\\begin{pmatrix}\n",
        "  - x_{1} -  \\\\\n",
        "  - x_{2} - \\\\\n",
        "  \\vdots   \\\\\n",
        "  - x_{n} -\n",
        "\\end{pmatrix}\n",
        "\\begin{pmatrix}\n",
        " \\theta_{1}  \\\\\n",
        "  \\theta_{2} \\\\\n",
        "  \\vdots   \\\\\n",
        "  \\theta_{d}\n",
        "\\end{pmatrix} - \n",
        "\\begin{pmatrix}\n",
        "  1 & 1 & \\cdots & 1\n",
        "\\end{pmatrix}^T\n",
        "\\log \\Bigg[ \\begin{pmatrix}\n",
        " 1  \\\\\n",
        "  1 \\\\\n",
        "  \\vdots   \\\\\n",
        "  1\n",
        "\\end{pmatrix} +\n",
        "\\exp \\Bigg ( \\begin{pmatrix}\n",
        "  - x_{1} -  \\\\\n",
        "  - x_{2} - \\\\\n",
        "  \\vdots   \\\\\n",
        "  - x_{n} -\n",
        "\\end{pmatrix}\n",
        "\\begin{pmatrix}\n",
        " \\theta_{1}  \\\\\n",
        "  \\theta_{2} \\\\\n",
        "  \\vdots   \\\\\n",
        "  \\theta_{d}\n",
        "\\end{pmatrix}\n",
        "\\Bigg ) \\Bigg ]\n",
        "$$\n",
        "$$ \\implies \\mathcal L_{MLE}(\\theta) = y^T X \\theta - \\mathbf 1_{n \\times 1}^T \\cdot \\log(\\mathbf 1_{n \\times 1} + \\exp(X \\theta)) $$"
      ]
    },
    {
      "cell_type": "markdown",
      "metadata": {
        "id": "1KXsXCtyF1fF"
      },
      "source": [
        "**Q3.5**: $\\frac{\\partial \\mathcal L_{MLE}(\\theta)}{\\partial \\theta} = X^T(y - \\text{logistic}(X\\theta))) $"
      ]
    },
    {
      "cell_type": "markdown",
      "metadata": {
        "id": "exVcWwPUF1fG"
      },
      "source": [
        "**Ans 3.5** From **Q 3.4**, we have, $ \\mathcal L_{MLE}(\\theta) = \\log P(\\mathbf y \\ | \\ X, \\theta) = y^T X \\theta - \\mathbf 1_{n \\times 1}^T \\cdot \\log(\\mathbf 1_{n \\times 1} + \\exp(X \\theta)) $\n",
        "\n",
        "Now, from $\\frac{\\partial b^T\\theta}{\\partial \\theta} = b$, we have\n",
        " \n",
        "$$\\begin{equation}\n",
        "\\frac{\\partial y^TX\\theta}{\\partial \\theta} = X^Ty \\tag{1}\n",
        "\\end{equation}$$\n",
        "\n",
        "Also, \n",
        "$$\\frac{\\partial \\ \\mathbf 1_{n \\times 1}^T \\cdot \\log(\\mathbf 1_{n \\times 1} + \\exp(X \\theta))}{\\partial \\theta} = \n",
        "\\begin{pmatrix}\n",
        "\\frac{\\partial}{\\partial \\theta_{1}}\\Big [ \\sum_{i=1}^{n} \\log (1 + \\exp(\\mathbf x_{i}^T\\theta)) \\Big ] \\\\\n",
        "\\vdots \\\\\n",
        "\\frac{\\partial}{\\partial \\theta_{d}}\\Big [ \\sum_{i=1}^{n} \\log (1 + \\exp(\\mathbf x_{i}^T\\theta)) \\Big ]\n",
        "\\end{pmatrix}\n",
        "$$\n",
        "\n",
        "\n",
        "= \\begin{pmatrix}\n",
        "\\sum_{i=1}^{n} \\frac{\\exp(\\mathbf x_{i}^T\\theta)}{1 + \\exp(\\mathbf x_{i}^T\\theta)}.x_{i1}\\\\\n",
        "\\vdots\\\\\n",
        "\\sum_{i=1}^{n} \\frac{\\exp(\\mathbf x_{i}^T\\theta)}{1 + \\exp(\\mathbf x_{i}^T\\theta)}.x_{id}\n",
        "\\end{pmatrix}\n",
        "=\n",
        "\\begin{pmatrix}\n",
        "x_{11} & x_{21} & \\cdots & x_{n1} \\\\\n",
        "x_{12} & x_{22} & \\cdots & x_{n2} \\\\\n",
        "\\vdots & \\vdots & \\ddots & \\vdots \\\\\n",
        "x_{1d} & x_{2d} & \\cdots & x_{nd} \n",
        "\\end{pmatrix} * \\begin{pmatrix}\n",
        "\\frac{1}{1 + \\exp(-x_1^T\\theta)} \\\\\n",
        "\\frac{1}{1 + \\exp(-x_2^T\\theta)} \\\\\n",
        "\\vdots \\\\\n",
        "\\frac{1}{1 + \\exp(-x_n^T\\theta)}\n",
        "\\end{pmatrix}\n",
        "\n",
        "\n",
        "$$\n",
        "= \\begin{pmatrix}\n",
        "- x_1 - \\\\\n",
        "- x_2 - \\\\\n",
        "\\vdots \\\\\n",
        "- x_n -\n",
        "\\end{pmatrix}^T.\\text{logistic}(X \\theta)\n",
        "= X^T.\\text{logistic}(X \\theta) \\tag{2}\n",
        "$$\n",
        "\n",
        "From $(1)$ and $(2)$ - \n",
        "$$\n",
        "\\frac{\\partial \\mathcal L_{MLE}(\\theta)}{\\partial \\theta} = X^T(y - \\text{logistic}(X\\theta))) \n",
        "$$"
      ]
    },
    {
      "cell_type": "markdown",
      "metadata": {
        "id": "jLgbcKX7F1fH"
      },
      "source": [
        "### Problem 4: Coding Logistic Regression\n"
      ]
    },
    {
      "cell_type": "markdown",
      "metadata": {
        "id": "SNWDjncz_wpR"
      },
      "source": [
        "Here's the code that generates data according to model specification (**Problem 3**). You needn't change it."
      ]
    },
    {
      "cell_type": "code",
      "metadata": {
        "id": "IXQNVPlNF1fH",
        "jupyter": {
          "outputs_hidden": false
        }
      },
      "source": [
        "import numpy as np\n",
        "import matplotlib.pyplot as plt\n",
        "\n",
        "def generate_logistic_regression_data(n_samples=200, k_featues=2, sigma_eps=0.1, \n",
        "                                      sigma_theta=1, feature_correlation_rate=0, train_test_ratio=4):\n",
        "    assert 0 <= feature_correlation_rate <= 1\n",
        "    X_noncorr = np.random.rand(n_samples, k_featues)*2-1 # [0, 1] -> [-1, 1] center around zero\n",
        "    mixture_matrix = np.eye(k_featues)*(1-feature_correlation_rate) + feature_correlation_rate/k_featues\n",
        "    X = X_noncorr @ mixture_matrix\n",
        "    theta_real = np.random.normal(scale=sigma_theta, size=k_featues)[:, np.newaxis] # column\n",
        "    noise = np.random.logistic(scale=sigma_eps, size=n_samples)[:, np.newaxis]\n",
        "    y = ((X @ theta_real + noise) > 0).astype(np.int16)\n",
        "    split_idx = int(n_samples * train_test_ratio / (train_test_ratio + 1))\n",
        "    return X[:split_idx, :], y[:split_idx], X[split_idx:, :], y[split_idx:], theta_real"
      ],
      "execution_count": 4,
      "outputs": []
    },
    {
      "cell_type": "markdown",
      "metadata": {
        "id": "XZpABA1EF1fI"
      },
      "source": [
        "**Q4.1**: Write (by filling in the missing code below) Gradient Descent and Stochastic Gradient Descent algorithm for the MLE loss and plot \n",
        "\n",
        "- MLE loss\n",
        "- Decision Boundary (for 2D data)\n",
        "\n",
        "Use results from **Q3.5**. Note that our loss is $loss(\\theta) = -\\mathcal L(\\theta)$ and it is usually referred to as \"the negative log-likelihood\"."
      ]
    },
    {
      "cell_type": "code",
      "metadata": {
        "id": "T2917BEDF1fI"
      },
      "source": [
        "from numpy.linalg import norm\n",
        "from scipy.spatial.distance import cosine\n",
        "import matplotlib.cm as cm\n",
        "\n",
        "def logistic_loss(X, y, theta_current, lambd):\n",
        "    theta_current_temp = theta_current.reshape((-1,1))\n",
        "    loss = np.dot(y.T, X@theta_current_temp) - np.sum(np.log(1 + np.exp(X @ theta_current)))\n",
        "    return -1 * loss\n",
        "    # return -1 * loss ## ! -- code required\n",
        "\n",
        "def logistic_loss_gradient(X, y, theta_current, lambd):\n",
        "    theta_current_temp = theta_current.reshape((-1,1))\n",
        "    grad = X.T @ y - X.T @ (1/(1 + np.exp(-1 * (X @ theta_current_temp))))\n",
        "    return -1 * grad ## ! -- code required\n",
        "\n",
        "def logistic_loss_single_gradient(X, y, smaple_id, theta_current, lambd):\n",
        "    x_i = X[smaple_id].reshape((1, -1))\n",
        "    y_i = y[smaple_id].reshape((1, 1))\n",
        "    return logistic_loss_gradient(x_i, y_i, theta_current, lambd)\n",
        "\n",
        "def logistic_classification_accuracy(X, y, theta_current):\n",
        "    pred = ( 1/(1 + np.exp(X @ theta))) >= 0.5\n",
        "    count = 0\n",
        "    for i in range(len(pred)):\n",
        "        if pred[i] == y[i]:\n",
        "            count += 1\n",
        "    return count/len(y)\n",
        "\n",
        "def run_MLE_gd(X, y, lambd, learning_rate = 0.01, max_epoch_n=200, init_theta=None):\n",
        "    theta = init_theta if init_theta is not None else np.ones((X.shape[1], 1))*5\n",
        "    steps = []\n",
        "    for epoch_n in range(max_epoch_n):\n",
        "        theta = theta - learning_rate * logistic_loss_gradient(X, y, theta, 1)\n",
        "        steps.append(theta)\n",
        "    return steps\n",
        "\n",
        "def run_MLE_sgd(X, y, lambd, learning_rate = 0.01, max_epoch_n=200, init_theta=None):\n",
        "    theta = init_theta if init_theta is not None else np.ones((X.shape[1], 1))*5\n",
        "    steps = []\n",
        "    for epoch_n in range(max_epoch_n):\n",
        "        for smaple_id in range(X.shape[0]):\n",
        "            theta = theta - learning_rate * logistic_loss_single_gradient(X, y, smaple_id, theta, 1)\n",
        "            ## ! -- code required\n",
        "        steps.append(theta)\n",
        "    return steps"
      ],
      "execution_count": 5,
      "outputs": []
    },
    {
      "cell_type": "markdown",
      "metadata": {
        "id": "xaJNlON-_wpT"
      },
      "source": [
        "**Q4.1.1**: Plot (for 2D data) all the train and test set points and then plot the decision boundary on the same plot  by filling in the missing code below. Clearly indicate the train/test samples and positive/negative samples in the plot using different markers and colors."
      ]
    },
    {
      "cell_type": "code",
      "metadata": {
        "colab": {
          "base_uri": "https://localhost:8080/",
          "height": 1000
        },
        "id": "OC5zBGdOF1fJ",
        "jupyter": {
          "outputs_hidden": false
        },
        "outputId": "87f0d91e-c135-44d9-a86c-42489fc5a051"
      },
      "source": [
        "import time\n",
        "\n",
        "def plot_decision_boundary(X_train, y_train, X_test, y_test, theta):\n",
        "    ## ! -- code required\n",
        "    blue, green = [], []\n",
        "    blue_test, green_test = [], []\n",
        "    for i in range(len(y_train)):\n",
        "        if y_train[i] == 1:\n",
        "            blue.append(X_train[i])\n",
        "        else:\n",
        "            green.append(X_train[i])\n",
        "\n",
        "    for j in range(len(y_test)):\n",
        "        if y_test[j] == 1:\n",
        "            blue_test.append(X_test[j])\n",
        "        else:\n",
        "            green_test.append(X_test[j])\n",
        "            \n",
        "    plt.scatter([x[0] for x in blue], [x[1] for x in blue], marker='+', label='Positive-train')\n",
        "    plt.scatter([x[0] for x in green], [x[1] for x in green], c = 'g', marker='o', label='Negative-train')\n",
        "    plt.scatter([x[0] for x in blue_test], [x[1] for x in blue_test], c = 'r', marker='+', label='Positive-test')\n",
        "    plt.scatter([x[0] for x in green_test], [x[1] for x in green_test], c = 'y', marker='o', label='Negative-test')\n",
        "    xx = np.linspace(-1, 1)\n",
        "    yy = - (xx * theta[0])/theta[1]\n",
        "    plt.plot(xx, yy, 'k-')\n",
        "    plt.legend(loc='best')\n",
        "    plt.show()\n",
        "    pass\n",
        "\n",
        "\n",
        "def main():\n",
        "    for k_features in [2, 100]:\n",
        "        data_args = {'n_samples': 200, 'k_featues': k_features, 'sigma_eps': 0.3, \n",
        "                     'sigma_theta': 5, 'feature_correlation_rate': 0}\n",
        "        data = generate_logistic_regression_data(**data_args)\n",
        "        X_train, y_train, X_test, y_test, theta_real = data\n",
        "        lambd = 0\n",
        "        \n",
        "        now = time.perf_counter()\n",
        "        steps = run_MLE_gd(X_train, y_train, lambd, learning_rate=1e-3, max_epoch_n=1000)\n",
        "        losses = [float(logistic_loss(X_train, y_train, thetaa, lambd)) for thetaa in steps]\n",
        "        plt.plot(losses)\n",
        "        plt.title('GD mle_loss , k_featues = %d' % k_features)\n",
        "        plt.show()\n",
        "        print('gd runtime:', time.perf_counter() - now)\n",
        "\n",
        "        if k_features == 2:\n",
        "            ## ! -- code required\n",
        "            # call plot_decision_boundary() with appropriate arguments\n",
        "            plot_decision_boundary(X_train, y_train, X_test, y_test, steps[-1])\n",
        "            pass\n",
        "        \n",
        "        now = time.perf_counter()\n",
        "        steps = run_MLE_sgd(X_train, y_train, lambd, learning_rate=1e-3, max_epoch_n=1000)\n",
        "        losses = [float(logistic_loss(X_train, y_train, thetaa, lambd)) for thetaa in steps]\n",
        "        plt.plot(losses)\n",
        "        plt.title('SGD mle_loss , k_featues = %d' % k_features)\n",
        "        plt.show()\n",
        "        print('sgd runtime:', time.perf_counter() - now)\n",
        "        \n",
        "        plt.show()\n",
        "    \n",
        "main()"
      ],
      "execution_count": 6,
      "outputs": [
        {
          "output_type": "display_data",
          "data": {
            "image/png": "[encoded data removed]",
            "text/plain": [
              "<Figure size 432x288 with 1 Axes>"
            ]
          },
          "metadata": {
            "tags": [],
            "needs_background": "light"
          }
        },
        {
          "output_type": "stream",
          "text": [
            "gd runtime: 0.2564562359999627\n"
          ],
          "name": "stdout"
        },
        {
          "output_type": "display_data",
          "data": {
            "image/png": "[encoded data removed]",
            "text/plain": [
              "<Figure size 432x288 with 1 Axes>"
            ]
          },
          "metadata": {
            "tags": [],
            "needs_background": "light"
          }
        },
        {
          "output_type": "display_data",
          "data": {
            "image/png": "[encoded data removed]",
            "text/plain": [
              "<Figure size 432x288 with 1 Axes>"
            ]
          },
          "metadata": {
            "tags": [],
            "needs_background": "light"
          }
        },
        {
          "output_type": "stream",
          "text": [
            "sgd runtime: 2.574610720999999\n"
          ],
          "name": "stdout"
        },
        {
          "output_type": "display_data",
          "data": {
            "image/png": "[encoded data removed]",
            "text/plain": [
              "<Figure size 432x288 with 1 Axes>"
            ]
          },
          "metadata": {
            "tags": [],
            "needs_background": "light"
          }
        },
        {
          "output_type": "stream",
          "text": [
            "gd runtime: 0.30074631299999055\n"
          ],
          "name": "stdout"
        },
        {
          "output_type": "display_data",
          "data": {
            "image/png": "[encoded data removed]",
            "text/plain": [
              "<Figure size 432x288 with 1 Axes>"
            ]
          },
          "metadata": {
            "tags": [],
            "needs_background": "light"
          }
        },
        {
          "output_type": "stream",
          "text": [
            "sgd runtime: 2.905760633\n"
          ],
          "name": "stdout"
        }
      ]
    },
    {
      "cell_type": "markdown",
      "metadata": {
        "id": "AYZU79t7F1fK"
      },
      "source": [
        "**Q4.1.2**: We expect loss to gradually decrease. Re-run code above several times (sgd might work differently). Why is SGD slower than GD?"
      ]
    },
    {
      "cell_type": "markdown",
      "metadata": {
        "id": "m5mpyxI1F1fK"
      },
      "source": [
        "**Ans 4.1.2**\n",
        "\n",
        "- SGD involves a larger number of un-necessary computations compared to GD in the above implementation. The matrix multiplication is computation heavy in each iteration while for GD all is completed in a sinlge iteration.\n",
        "- Further, added to the above fact is that, there are very less instances to classify. SGD might have been far better when the matrix multiplication in GD would have involved huge matrices. Since, this is not the case, SGD becomes slower compared to GD."
      ]
    },
    {
      "cell_type": "markdown",
      "metadata": {
        "id": "DmJ4TaVBF1fL"
      },
      "source": [
        ".\n",
        "\n",
        ".\n",
        "\n",
        ".\n",
        "\n",
        "Wow, you made it this far. That is impressive. Congratulations!"
      ]
    }
  ]
}